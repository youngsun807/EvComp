{
 "cells": [
  {
   "cell_type": "markdown",
   "metadata": {},
   "source": [
    "### 공통코드"
   ]
  },
  {
   "cell_type": "code",
   "execution_count": 1,
   "metadata": {},
   "outputs": [],
   "source": [
    "import requests\n",
    "from bs4 import BeautifulSoup\n",
    "import re\n",
    "import json\n",
    "import pandas as pd"
   ]
  },
  {
   "cell_type": "code",
   "execution_count": 3,
   "metadata": {},
   "outputs": [],
   "source": [
    "ticker = \"005930\"\n",
    "#column_idx = 1"
   ]
  },
  {
   "cell_type": "code",
   "execution_count": 4,
   "metadata": {},
   "outputs": [],
   "source": [
    "pat_enc = re.compile(\"encparam: '(.*)'\")\n",
    "#pat_id = re.compile(\"id: '([a-zA-Z0-9]*)' ?\", re.IGNORECASE)"
   ]
  },
  {
   "cell_type": "code",
   "execution_count": 5,
   "metadata": {},
   "outputs": [],
   "source": [
    "url = \"https://companyinfo.stock.naver.com/v1/company/c1040001.aspx?cmp_cd={}&cn\".format(ticker)\n",
    "       #https://companyinfo.stock.naver.com/v1/company/c1040001.aspx?cmp_cd=005930&cn=\n",
    "html = requests.get(url).text\n",
    "encparam = pat_enc.search(html).group(1)\n",
    "#encid = pat_id.search(html).group(1)"
   ]
  },
  {
   "cell_type": "code",
   "execution_count": 6,
   "metadata": {},
   "outputs": [
    {
     "name": "stdout",
     "output_type": "stream",
     "text": [
      "bm1QREVOaUROSDJyRURFVVV0TGdBUT09\n"
     ]
    }
   ],
   "source": [
    "print(encparam)"
   ]
  },
  {
   "cell_type": "code",
   "execution_count": 89,
   "metadata": {},
   "outputs": [],
   "source": [
    "#print(encid)"
   ]
  },
  {
   "cell_type": "markdown",
   "metadata": {},
   "source": [
    "### 수익성 지표 코드"
   ]
  },
  {
   "cell_type": "code",
   "execution_count": 120,
   "metadata": {},
   "outputs": [],
   "source": [
    "#수익성\n",
    "profitUrl = \"https://companyinfo.stock.naver.com/v1/company/cF4002.aspx?cmp_cd={}&frq=0&rpt=1&finGubun=IFRSS&frqTyp=0&cn=&encparam={}\".format(ticker, encparam)\n",
    "\n",
    "headers = {\n",
    "  \"Referer\": \"HACK\"\n",
    "}\n",
    "profitHtml = requests.get(profitUrl, headers=headers).text"
   ]
  },
  {
   "cell_type": "code",
   "execution_count": 130,
   "metadata": {},
   "outputs": [],
   "source": [
    "profitSoup = BeautifulSoup(profitHtml, \"html5lib\")"
   ]
  },
  {
   "cell_type": "code",
   "execution_count": 131,
   "metadata": {},
   "outputs": [],
   "source": [
    "profitSoup = profitSoup.select(\"body\")[0].text"
   ]
  },
  {
   "cell_type": "code",
   "execution_count": 132,
   "metadata": {},
   "outputs": [],
   "source": [
    "profitJson = json.loads(profitSoup)"
   ]
  },
  {
   "cell_type": "code",
   "execution_count": 133,
   "metadata": {},
   "outputs": [
    {
     "data": {
      "text/plain": [
       "['2013/12(IFRS별도)',\n",
       " '2014/12(IFRS별도)',\n",
       " '2015/12(IFRS별도)',\n",
       " '2016/12(IFRS별도)',\n",
       " '2017/12(IFRS별도)',\n",
       " '2018/12(E)(IFRS별도)',\n",
       " '전년대비(YoY)',\n",
       " '전년대비(YoY)']"
      ]
     },
     "execution_count": 133,
     "metadata": {},
     "output_type": "execute_result"
    }
   ],
   "source": [
    "profitDate = profitJson[\"YYMM\"]\n",
    "profitDate"
   ]
  },
  {
   "cell_type": "code",
   "execution_count": 125,
   "metadata": {},
   "outputs": [],
   "source": [
    "profitData = profitJson[\"DATA\"]"
   ]
  },
  {
   "cell_type": "code",
   "execution_count": 139,
   "metadata": {},
   "outputs": [],
   "source": [
    "profitCol = [\"date\"]\n",
    "profitRow1 = [profitDate[0].replace('(IFRS별도)',\"\")]\n",
    "profitRow2 = [profitDate[1].replace('(IFRS별도)',\"\")]\n",
    "profitRow3 = [profitDate[2].replace('(IFRS별도)',\"\")]\n",
    "profitRow4 = [profitDate[3].replace('(IFRS별도)',\"\")]\n",
    "profitRow5 = [profitDate[4].replace('(IFRS별도)',\"\")]\n",
    "profitList = [profitCol, profitRow1, profitRow2, profitRow3, profitRow4, profitRow5]\n",
    "for i in range(len(profitData)):\n",
    "    profitDataYear = profitData[i]\n",
    "    if profitDataYear[\"P_ACCODE\"] ==None:\n",
    "        profitCol.append(profitDataYear[\"ACC_NM\"])\n",
    "        data1 = round(float(profitDataYear[\"DATA1\"]),2)\n",
    "        profitRow1.append(data1)\n",
    "        data2 = round(float(profitDataYear[\"DATA2\"]),2)\n",
    "        profitRow2.append(data2)\n",
    "        data3 = round(float(profitDataYear[\"DATA3\"]),2)\n",
    "        profitRow3.append(data3)\n",
    "        data4 = round(float(profitDataYear[\"DATA4\"]),2)\n",
    "        profitRow4.append(data4) \n",
    "        data5 = round(float(profitDataYear[\"DATA5\"]),2)\n",
    "        profitRow5.append(data1)"
   ]
  },
  {
   "cell_type": "code",
   "execution_count": 140,
   "metadata": {},
   "outputs": [
    {
     "data": {
      "text/plain": [
       "[['date', '매출총이익률', '영업이익률', '순이익률', 'EBITDA마진율', 'ROE', 'ROA', 'ROIC'],\n",
       " ['2013/12', 30.08, 13.77, 11.32, 20.92, 15.71, 12.45, 30.49],\n",
       " ['2014/12', 28.03, 10.1, 10.59, 19.35, 11.44, 9.15, 15.62],\n",
       " ['2015/12', 26.29, 9.91, 9.05, 18.49, 9.1, 7.35, 14.52],\n",
       " ['2016/12', 27.37, 10.19, 8.64, 19.09, 8.45, 6.74, 16.4],\n",
       " ['2017/12', 30.08, 13.77, 11.32, 20.92, 15.71, 12.45, 30.49]]"
      ]
     },
     "execution_count": 140,
     "metadata": {},
     "output_type": "execute_result"
    }
   ],
   "source": [
    "profitList"
   ]
  },
  {
   "cell_type": "code",
   "execution_count": 156,
   "metadata": {},
   "outputs": [
    {
     "data": {
      "text/plain": [
       "[['date', '매출총이익률', '영업이익률', '순이익률', 'EBITDA마진율', 'ROE', 'ROA', 'ROIC'],\n",
       " ['2013/12', 30.08, 13.77, 11.32, 20.92, 15.71, 12.45, 30.49],\n",
       " ['2014/12', 28.03, 10.1, 10.59, 19.35, 11.44, 9.15, 15.62],\n",
       " ['2015/12', 26.29, 9.91, 9.05, 18.49, 9.1, 7.35, 14.52],\n",
       " ['2016/12', 27.37, 10.19, 8.64, 19.09, 8.45, 6.74, 16.4],\n",
       " ['2017/12', 30.08, 13.77, 11.32, 20.92, 15.71, 12.45, 30.49]]"
      ]
     },
     "execution_count": 156,
     "metadata": {},
     "output_type": "execute_result"
    }
   ],
   "source": [
    "array = (profitList)\n",
    "array"
   ]
  },
  {
   "cell_type": "markdown",
   "metadata": {},
   "source": [
    "### 성장성 지표 코드"
   ]
  },
  {
   "cell_type": "code",
   "execution_count": 143,
   "metadata": {},
   "outputs": [],
   "source": [
    "# 성장성\n",
    "growthUrl = \"https://companyinfo.stock.naver.com/v1/company/cF4002.aspx?cmp_cd={}&frq=0&rpt=2&finGubun=IFRSS&frqTyp=0&cn=&encparam={}\".format(ticker, encparam)\n",
    "\n",
    "  \"Referer\": \"HACK\"\n",
    "}\n",
    "growthHtml = requests.get(growthUrl, headers=headers).text"
   ]
  },
  {
   "cell_type": "code",
   "execution_count": 135,
   "metadata": {},
   "outputs": [],
   "source": [
    "growthSoup = BeautifulSoup(growthHtml, \"html5lib\")\n",
    "growthSoup = growthSoup.select(\"body\")[0].text\n",
    "growthJson = json.loads(growthSoup)"
   ]
  },
  {
   "cell_type": "code",
   "execution_count": 137,
   "metadata": {},
   "outputs": [
    {
     "data": {
      "text/plain": [
       "['2013/12(IFRS별도)',\n",
       " '2014/12(IFRS별도)',\n",
       " '2015/12(IFRS별도)',\n",
       " '2016/12(IFRS별도)',\n",
       " '2017/12(IFRS별도)',\n",
       " '2018/12(E)(IFRS별도)',\n",
       " '전년대비(YoY)',\n",
       " '전년대비(YoY)']"
      ]
     },
     "execution_count": 137,
     "metadata": {},
     "output_type": "execute_result"
    }
   ],
   "source": [
    "growthDate = growthJson[\"YYMM\"]\n",
    "growthDate"
   ]
  },
  {
   "cell_type": "code",
   "execution_count": 141,
   "metadata": {},
   "outputs": [],
   "source": [
    "growthData = growthJson[\"DATA\"]\n",
    "growthCol = [\"date\"]\n",
    "growthRow1 = [growthDate[0].replace('(IFRS별도)',\"\")]\n",
    "growthRow2 = [growthDate[1].replace('(IFRS별도)',\"\")]\n",
    "growthRow3 = [growthDate[2].replace('(IFRS별도)',\"\")]\n",
    "growthRow4 = [growthDate[3].replace('(IFRS별도)',\"\")]\n",
    "growthRow5 = [growthDate[4].replace('(IFRS별도)',\"\")]\n",
    "growthList = [growthCol, growthRow1, growthRow2, growthRow3, growthRow4, growthRow5]\n",
    "for i in range(len(growthData)):\n",
    "    growthDataYear = growthData[i]\n",
    "    if growthDataYear[\"P_ACCODE\"] ==None:\n",
    "        growthCol.append(growthDataYear[\"ACC_NM\"])\n",
    "        data1 = round(float(growthDataYear[\"DATA1\"]),2)\n",
    "        growthRow1.append(data1)\n",
    "        data2 = round(float(growthDataYear[\"DATA2\"]),2)\n",
    "        growthRow2.append(data2)\n",
    "        data3 = round(float(growthDataYear[\"DATA3\"]),2)\n",
    "        growthRow3.append(data3)\n",
    "        data4 = round(float(growthDataYear[\"DATA4\"]),2)\n",
    "        growthRow4.append(data4) \n",
    "        data5 = round(float(growthDataYear[\"DATA5\"]),2)\n",
    "        growthRow5.append(data1)"
   ]
  },
  {
   "cell_type": "code",
   "execution_count": 142,
   "metadata": {},
   "outputs": [
    {
     "data": {
      "text/plain": [
       "[['date',\n",
       "  '매출액증가율',\n",
       "  '영업이익증가율',\n",
       "  '순이익증가율',\n",
       "  '총자산증가율',\n",
       "  '유동자산증가율',\n",
       "  '유형자산증가율',\n",
       "  '자기자본증가율'],\n",
       " ['2013/12', 12.16, 17.81, 3.05, 16.18, 37.89, 4.1, 15.57],\n",
       " ['2014/12', -12.97, -36.14, -18.62, 5.96, 2.39, 5.56, 8.42],\n",
       " ['2015/12', -1.9, -3.78, -16.13, 2.99, 7.97, 3.21, 2.83],\n",
       " ['2016/12', -0.93, 1.86, -5.38, 3.45, 4.45, 4.61, 0.82],\n",
       " ['2017/12', 12.16, 17.81, 3.05, 16.18, 37.89, 4.1, 15.57]]"
      ]
     },
     "execution_count": 142,
     "metadata": {},
     "output_type": "execute_result"
    }
   ],
   "source": [
    "growthList"
   ]
  },
  {
   "cell_type": "markdown",
   "metadata": {},
   "source": [
    "### 안정성 지표 코드"
   ]
  },
  {
   "cell_type": "code",
   "execution_count": 145,
   "metadata": {},
   "outputs": [],
   "source": [
    "# 안정성 \n",
    "stabilityUrl = \"https://companyinfo.stock.naver.com/v1/company/cF4002.aspx?cmp_cd={}&frq=0&rpt=3&finGubun=IFRSS&frqTyp=0&cn=&encparam={}\".format(ticker, encparam)\n",
    "headers = {\n",
    "  \"Referer\": \"HACK\"\n",
    "}\n",
    "stabilityHtml = requests.get(stabilityUrl, headers=headers).text"
   ]
  },
  {
   "cell_type": "code",
   "execution_count": 146,
   "metadata": {},
   "outputs": [],
   "source": [
    "stabilitySoup = BeautifulSoup(stabilityHtml, \"html5lib\")\n",
    "stabilitySoup = stabilitySoup.select(\"body\")[0].text\n",
    "stabilityJson = json.loads(stabilitySoup)"
   ]
  },
  {
   "cell_type": "code",
   "execution_count": 147,
   "metadata": {},
   "outputs": [
    {
     "data": {
      "text/plain": [
       "['2013/12(IFRS별도)',\n",
       " '2014/12(IFRS별도)',\n",
       " '2015/12(IFRS별도)',\n",
       " '2016/12(IFRS별도)',\n",
       " '2017/12(IFRS별도)',\n",
       " '2018/12(E)(IFRS별도)',\n",
       " '전년대비(YoY)',\n",
       " '전년대비(YoY)']"
      ]
     },
     "execution_count": 147,
     "metadata": {},
     "output_type": "execute_result"
    }
   ],
   "source": [
    "stabilityDate = stabilityJson[\"YYMM\"]\n",
    "stabilityDate"
   ]
  },
  {
   "cell_type": "code",
   "execution_count": 148,
   "metadata": {},
   "outputs": [],
   "source": [
    "stabilityData = stabilityJson[\"DATA\"]\n",
    "stabilityCol = [\"date\"]\n",
    "stabilityRow1 = [stabilityDate[0].replace('(IFRS별도)',\"\")]\n",
    "stabilityRow2 = [stabilityDate[1].replace('(IFRS별도)',\"\")]\n",
    "stabilityRow3 = [stabilityDate[2].replace('(IFRS별도)',\"\")]\n",
    "stabilityRow4 = [stabilityDate[3].replace('(IFRS별도)',\"\")]\n",
    "stabilityRow5 = [stabilityDate[4].replace('(IFRS별도)',\"\")]\n",
    "stabilityList = [stabilityCol, stabilityRow1, stabilityRow2, stabilityRow3, stabilityRow4, stabilityRow5]\n",
    "for i in range(len(stabilityData)):\n",
    "    stabilityDataYear = stabilityData[i]\n",
    "    if stabilityDataYear[\"P_ACCODE\"] ==None:\n",
    "        stabilityCol.append(stabilityDataYear[\"ACC_NM\"])\n",
    "        data1 = round(float(stabilityDataYear[\"DATA1\"]),2)\n",
    "        stabilityRow1.append(data1)\n",
    "        data2 = round(float(stabilityDataYear[\"DATA2\"]),2)\n",
    "        stabilityRow2.append(data2)\n",
    "        data3 = round(float(stabilityDataYear[\"DATA3\"]),2)\n",
    "        stabilityRow3.append(data3)\n",
    "        data4 = round(float(stabilityDataYear[\"DATA4\"]),2)\n",
    "        stabilityRow4.append(data4) \n",
    "        data5 = round(float(stabilityDataYear[\"DATA5\"]),2)\n",
    "        stabilityRow5.append(data1)"
   ]
  },
  {
   "cell_type": "code",
   "execution_count": 149,
   "metadata": {},
   "outputs": [
    {
     "data": {
      "text/plain": [
       "[['date',\n",
       "  '부채비율',\n",
       "  '유동부채비율',\n",
       "  '비유동부채비율',\n",
       "  '순부채비율',\n",
       "  '유동비율',\n",
       "  '당좌비율',\n",
       "  '이자보상배율',\n",
       "  '금융비용부담률',\n",
       "  '자본유보율'],\n",
       " ['2013/12',\n",
       "  26.52,\n",
       "  22.55,\n",
       "  3.97,\n",
       "  -22.96,\n",
       "  219.59,\n",
       "  198.29,\n",
       "  183.35,\n",
       "  0.07,\n",
       "  14087.06],\n",
       " ['2014/12', 23.65, 21.26, 2.39, -20.53, 219.99, 198.66, 62.0, 0.16, 15472.52],\n",
       " ['2015/12',\n",
       "  23.85,\n",
       "  21.72,\n",
       "  2.13,\n",
       "  -19.54,\n",
       "  226.12,\n",
       "  203.66,\n",
       "  46.47,\n",
       "  0.21,\n",
       "  16493.68],\n",
       " ['2016/12',\n",
       "  27.09,\n",
       "  24.77,\n",
       "  2.31,\n",
       "  -18.05,\n",
       "  205.37,\n",
       "  186.98,\n",
       "  41.17,\n",
       "  0.25,\n",
       "  16172.61],\n",
       " ['2017/12',\n",
       "  26.52,\n",
       "  22.55,\n",
       "  3.97,\n",
       "  -22.96,\n",
       "  219.59,\n",
       "  198.29,\n",
       "  183.35,\n",
       "  0.07,\n",
       "  14087.06]]"
      ]
     },
     "execution_count": 149,
     "metadata": {},
     "output_type": "execute_result"
    }
   ],
   "source": [
    "stabilityList"
   ]
  },
  {
   "cell_type": "markdown",
   "metadata": {},
   "source": [
    "### 활동성 지표 코드"
   ]
  },
  {
   "cell_type": "code",
   "execution_count": 150,
   "metadata": {},
   "outputs": [],
   "source": [
    "# 활동성 \n",
    "activityUrl = \"https://companyinfo.stock.naver.com/v1/company/cF4002.aspx?cmp_cd={}&frq=0&rpt=4&finGubun=IFRSS&frqTyp=0&cn=&encparam={}\".format(ticker, encparam)\n",
    "headers = {\n",
    "  \"Referer\": \"HACK\"\n",
    "}\n",
    "activityHtml = requests.get(activityUrl, headers=headers).text"
   ]
  },
  {
   "cell_type": "code",
   "execution_count": 151,
   "metadata": {},
   "outputs": [],
   "source": [
    "activitySoup = BeautifulSoup(activityHtml, \"html5lib\")\n",
    "activitySoup = activitySoup.select(\"body\")[0].text\n",
    "activityJson = json.loads(activitySoup)"
   ]
  },
  {
   "cell_type": "code",
   "execution_count": 152,
   "metadata": {},
   "outputs": [
    {
     "data": {
      "text/plain": [
       "['2013/12(IFRS별도)',\n",
       " '2014/12(IFRS별도)',\n",
       " '2015/12(IFRS별도)',\n",
       " '2016/12(IFRS별도)',\n",
       " '2017/12(IFRS별도)',\n",
       " '2018/12(E)(IFRS별도)',\n",
       " '전년대비(YoY)',\n",
       " '전년대비(YoY)']"
      ]
     },
     "execution_count": 152,
     "metadata": {},
     "output_type": "execute_result"
    }
   ],
   "source": [
    "activityDate = activityJson[\"YYMM\"]\n",
    "activityDate"
   ]
  },
  {
   "cell_type": "code",
   "execution_count": 153,
   "metadata": {},
   "outputs": [],
   "source": [
    "activityData = activityJson[\"DATA\"]\n",
    "activityCol = [\"date\"]\n",
    "activityRow1 = [activityDate[0].replace('(IFRS별도)',\"\")]\n",
    "activityRow2 = [activityDate[1].replace('(IFRS별도)',\"\")]\n",
    "activityRow3 = [activityDate[2].replace('(IFRS별도)',\"\")]\n",
    "activityRow4 = [activityDate[3].replace('(IFRS별도)',\"\")]\n",
    "activityRow5 = [activityDate[4].replace('(IFRS별도)',\"\")]\n",
    "activityList = [activityCol, activityRow1, activityRow2, activityRow3, activityRow4, activityRow5]\n",
    "for i in range(len(activityData)):\n",
    "    activityDataYear = activityData[i]\n",
    "    if activityDataYear[\"P_ACCODE\"] ==None:\n",
    "        activityCol.append(activityDataYear[\"ACC_NM\"])\n",
    "        data1 = round(float(activityDataYear[\"DATA1\"]),2)\n",
    "        activityRow1.append(data1)\n",
    "        data2 = round(float(activityDataYear[\"DATA2\"]),2)\n",
    "        activityRow2.append(data2)\n",
    "        data3 = round(float(activityDataYear[\"DATA3\"]),2)\n",
    "        activityRow3.append(data3)\n",
    "        data4 = round(float(activityDataYear[\"DATA4\"]),2)\n",
    "        activityRow4.append(data4) \n",
    "        data5 = round(float(activityDataYear[\"DATA5\"]),2)\n",
    "        activityRow5.append(data1)"
   ]
  },
  {
   "cell_type": "code",
   "execution_count": 154,
   "metadata": {},
   "outputs": [
    {
     "data": {
      "text/plain": [
       "[['date',\n",
       "  '총자산회전율',\n",
       "  '자기자본회전율',\n",
       "  '순운전자본회전율',\n",
       "  '유형자산회전율',\n",
       "  '매출채권회전율',\n",
       "  '재고자산회전율',\n",
       "  '매입채무회전율'],\n",
       " ['2013/12', 1.1, 1.39, 17.53, 3.9, 9.04, 28.26, 27.48],\n",
       " ['2014/12', 0.86, 1.08, 13.49, 3.24, 7.51, 24.11, 26.45],\n",
       " ['2015/12', 0.81, 1.0, 10.54, 3.04, 6.9, 22.29, 31.57],\n",
       " ['2016/12', 0.78, 0.98, 9.53, 2.9, 6.12, 21.33, 26.65],\n",
       " ['2017/12', 1.1, 1.39, 17.53, 3.9, 9.04, 28.26, 27.48]]"
      ]
     },
     "execution_count": 154,
     "metadata": {},
     "output_type": "execute_result"
    }
   ],
   "source": [
    "activityList"
   ]
  },
  {
   "cell_type": "code",
   "execution_count": null,
   "metadata": {},
   "outputs": [],
   "source": []
  }
 ],
 "metadata": {
  "kernelspec": {
   "display_name": "Python 3",
   "language": "python",
   "name": "python3"
  },
  "language_info": {
   "codemirror_mode": {
    "name": "ipython",
    "version": 3
   },
   "file_extension": ".py",
   "mimetype": "text/x-python",
   "name": "python",
   "nbconvert_exporter": "python",
   "pygments_lexer": "ipython3",
   "version": "3.6.5"
  }
 },
 "nbformat": 4,
 "nbformat_minor": 2
}
