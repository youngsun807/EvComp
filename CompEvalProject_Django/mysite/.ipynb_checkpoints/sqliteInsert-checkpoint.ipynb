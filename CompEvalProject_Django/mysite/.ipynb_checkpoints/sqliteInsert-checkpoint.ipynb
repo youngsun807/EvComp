{
 "cells": [
  {
   "cell_type": "code",
   "execution_count": null,
   "metadata": {},
   "outputs": [],
   "source": [
    "'''\n",
    "This code uses the openpyxl package for playing around with excel using Python code\n",
    "to convert complete excel workbook (all sheets) to an SQLite database\n",
    "The code assumes that the first row of every sheet is the column name\n",
    "Every sheet is stored in a separate table\n",
    "The sheet name is assigned as the table name for every sheet\n",
    "'''"
   ]
  },
  {
   "cell_type": "code",
   "execution_count": 2,
   "metadata": {},
   "outputs": [],
   "source": [
    "import sqlite3\n",
    "import openpyxl\n",
    "from openpyxl import load_workbook\n",
    "import re"
   ]
  },
  {
   "cell_type": "code",
   "execution_count": 6,
   "metadata": {},
   "outputs": [
    {
     "name": "stderr",
     "output_type": "stream",
     "text": [
      "C:\\Users\\Playdata\\Anaconda3\\lib\\site-packages\\ipykernel_launcher.py:14: DeprecationWarning: Call to deprecated function get_sheet_names (Use wb.sheetnames).\n",
      "  \n"
     ]
    }
   ],
   "source": [
    "'''\n",
    "def slugify(text, lower=1):\n",
    "    if lower == 1:\n",
    "        text = text.strip().lower()\n",
    "    text = re.sub(r'[^\\w _-]+', '', text)\n",
    "    text = re.sub(r'[- ]+', '_', text)\n",
    "    return text\n",
    "\n",
    "#Replace with a database name\n",
    "con = sqlite3.connect(r'C:\\0.ITStudy\\11.Django\\miniProject2\\mysite\\db.sqlite3') #db.sqlite3\n",
    "#replace with the complete path to youe excel workbook\n",
    "wb = load_workbook(filename=r'C:\\0.ITStudy\\11.Django\\miniProject2\\mysite\\evCompData\\company_codes _name.xlsx')\n",
    "\n",
    "#sheets = wb.get_sheet_names()\n",
    "sheets = wb.get_sheet_names()"
   ]
  },
  {
   "cell_type": "code",
   "execution_count": null,
   "metadata": {},
   "outputs": [],
   "source": [
    "'''\n",
    "for sheet in sheets:\n",
    "    ws = wb[sheet] \n",
    "\n",
    "    columns= []\n",
    "    query = 'CREATE TABLE ' + str(slugify(sheet)) + '(ID INTEGER PRIMARY KEY AUTOINCREMENT'\n",
    "    for row in next(ws.rows):\n",
    "        query += ', ' + slugify(row.value) + ' TEXT'\n",
    "        columns.append(slugify(row.value))\n",
    "    query += ');'\n",
    "    \n",
    "    con.execute(query)\n",
    "\n",
    "    tup = []\n",
    "    for i, rows in enumerate(ws):\n",
    "        tuprow = []\n",
    "        if i == 0:\n",
    "            continue\n",
    "        for row in rows:\n",
    "            tuprow.append(str(row.value).strip()) if str(row.value).strip() != 'None' else tuprow.append('')\n",
    "        tup.append(tuple(tuprow))\n",
    "\n",
    "\n",
    "    insQuery1 = 'INSERT INTO ' + str(slugify(sheet)) + '('\n",
    "    insQuery2 = ''\n",
    "    for col in columns:\n",
    "        insQuery1 += col + ', '\n",
    "        insQuery2 += '?, '\n",
    "    insQuery1 = insQuery1[:-2] + ') VALUES('\n",
    "    insQuery2 = insQuery2[:-2] + ')'\n",
    "    insQuery = insQuery1 + insQuery2\n",
    "\n",
    "    con.executemany(insQuery, tup)\n",
    "    con.commit()\n",
    "'''\n"
   ]
  }
 ],
 "metadata": {
  "kernelspec": {
   "display_name": "Python 3",
   "language": "python",
   "name": "python3"
  },
  "language_info": {
   "codemirror_mode": {
    "name": "ipython",
    "version": 3
   },
   "file_extension": ".py",
   "mimetype": "text/x-python",
   "name": "python",
   "nbconvert_exporter": "python",
   "pygments_lexer": "ipython3",
   "version": "3.6.5"
  }
 },
 "nbformat": 4,
 "nbformat_minor": 2
}
