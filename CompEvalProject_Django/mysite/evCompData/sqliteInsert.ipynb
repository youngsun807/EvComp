{
 "cells": [
  {
   "cell_type": "code",
   "execution_count": null,
   "metadata": {},
   "outputs": [],
   "source": [
    "'''\n",
    "This code uses the openpyxl package for playing around with excel using Python code\n",
    "to convert complete excel workbook (all sheets) to an SQLite database\n",
    "The code assumes that the first row of every sheet is the column name\n",
    "Every sheet is stored in a separate table\n",
    "The sheet name is assigned as the table name for every sheet\n",
    "'''"
   ]
  },
  {
   "cell_type": "code",
   "execution_count": 19,
   "metadata": {},
   "outputs": [
    {
     "ename": "SyntaxError",
     "evalue": "(unicode error) 'unicodeescape' codec can't decode bytes in position 238-239: truncated \\UXXXXXXXX escape (<ipython-input-19-2d0fef4ba54a>, line 54)",
     "output_type": "error",
     "traceback": [
      "\u001b[1;36m  File \u001b[1;32m\"<ipython-input-19-2d0fef4ba54a>\"\u001b[1;36m, line \u001b[1;32m54\u001b[0m\n\u001b[1;33m    '''\u001b[0m\n\u001b[1;37m      ^\u001b[0m\n\u001b[1;31mSyntaxError\u001b[0m\u001b[1;31m:\u001b[0m (unicode error) 'unicodeescape' codec can't decode bytes in position 238-239: truncated \\UXXXXXXXX escape\n"
     ]
    }
   ],
   "source": [
    "import sqlite3\n",
    "import openpyxl\n",
    "from openpyxl import load_workbook\n",
    "import re\n",
    "import pnadas as pd\n",
    "'''\n",
    "def slugify(text, lower=1):\n",
    "    if lower == 1:\n",
    "        text = text.strip().lower()\n",
    "    text = re.sub(r'[^\\w _-]+', '', text)\n",
    "    text = re.sub(r'[- ]+', '_', text)\n",
    "    return text\n",
    "\n",
    "#Replace with a database name\n",
    "con = sqlite3.connect(r'C:\\Users\\조두환\\Desktop\\miniProject\\mysite\\db.sqlite3') #db.sqlite3\n",
    "#replace with the complete path to youe excel workbook\n",
    "wb = load_workbook(filename=r'C:\\Users\\조두환\\Desktop\\company_codes.xlsx')\n",
    "\n",
    "sheets = wb.get_sheet_names()\n",
    "\n",
    "for sheet in sheets:\n",
    "    ws = wb[sheet] \n",
    "\n",
    "    columns= []\n",
    "    query = 'CREATE TABLE ' + str(slugify(sheet)) + '(ID INTEGER PRIMARY KEY AUTOINCREMENT'\n",
    "    for row in next(ws.rows):\n",
    "        query += ', ' + slugify(row.value) + ' TEXT'\n",
    "        columns.append(slugify(row.value))\n",
    "    query += ');'\n",
    "\n",
    "    con.execute(query)\n",
    "\n",
    "    tup = []\n",
    "    for i, rows in enumerate(ws):\n",
    "        tuprow = []\n",
    "        if i == 0:\n",
    "            continue\n",
    "        for row in rows:\n",
    "            tuprow.append(str(row.value).strip()) if str(row.value).strip() != 'None' else tuprow.append('')\n",
    "        tup.append(tuple(tuprow))\n",
    "\n",
    "\n",
    "    insQuery1 = 'INSERT INTO ' + str(slugify(sheet)) + '('\n",
    "    insQuery2 = ''\n",
    "    for col in columns:\n",
    "        insQuery1 += col + ', '\n",
    "        insQuery2 += '?, '\n",
    "    insQuery1 = insQuery1[:-2] + ') VALUES('\n",
    "    insQuery2 = insQuery2[:-2] + ')'\n",
    "    insQuery = insQuery1 + insQuery2\n",
    "\n",
    "    con.executemany(insQuery, tup)\n",
    "    con.commit()\n",
    "'''"
   ]
  },
  {
   "cell_type": "code",
   "execution_count": 17,
   "metadata": {},
   "outputs": [],
   "source": [
    "'''\n",
    "import csv\n",
    "with open(\"C:/0.ITStudy/11.Django/miniProject2/mysite/evCompData/company_codes _name.csv\", \"r\") as f:\n",
    "    reader = csv.reader(f)"
   ]
  },
  {
   "cell_type": "code",
   "execution_count": 18,
   "metadata": {},
   "outputs": [
    {
     "ename": "ValueError",
     "evalue": "I/O operation on closed file.",
     "output_type": "error",
     "traceback": [
      "\u001b[1;31m---------------------------------------------------------------------------\u001b[0m",
      "\u001b[1;31mValueError\u001b[0m                                Traceback (most recent call last)",
      "\u001b[1;32m<ipython-input-18-8bc01878bf7b>\u001b[0m in \u001b[0;36m<module>\u001b[1;34m()\u001b[0m\n\u001b[0;32m      1\u001b[0m \u001b[0ma\u001b[0m \u001b[1;33m=\u001b[0m \u001b[1;33m[\u001b[0m\u001b[1;33m]\u001b[0m\u001b[1;33m\u001b[0m\u001b[0m\n\u001b[1;32m----> 2\u001b[1;33m \u001b[1;32mfor\u001b[0m \u001b[0mi\u001b[0m \u001b[1;32min\u001b[0m \u001b[0mreader\u001b[0m\u001b[1;33m:\u001b[0m\u001b[1;33m\u001b[0m\u001b[0m\n\u001b[0m\u001b[0;32m      3\u001b[0m     \u001b[0ma\u001b[0m\u001b[1;33m.\u001b[0m\u001b[0mappend\u001b[0m\u001b[1;33m(\u001b[0m\u001b[0mi\u001b[0m\u001b[1;33m)\u001b[0m\u001b[1;33m\u001b[0m\u001b[0m\n\u001b[0;32m      4\u001b[0m \u001b[1;33m\u001b[0m\u001b[0m\n",
      "\u001b[1;31mValueError\u001b[0m: I/O operation on closed file."
     ]
    }
   ],
   "source": [
    "a = []\n",
    "for i in reader:\n",
    "    a.append(i)\n",
    "    "
   ]
  },
  {
   "cell_type": "code",
   "execution_count": null,
   "metadata": {},
   "outputs": [],
   "source": []
  }
 ],
 "metadata": {
  "kernelspec": {
   "display_name": "Python 3",
   "language": "python",
   "name": "python3"
  },
  "language_info": {
   "codemirror_mode": {
    "name": "ipython",
    "version": 3
   },
   "file_extension": ".py",
   "mimetype": "text/x-python",
   "name": "python",
   "nbconvert_exporter": "python",
   "pygments_lexer": "ipython3",
   "version": "3.6.5"
  }
 },
 "nbformat": 4,
 "nbformat_minor": 2
}
