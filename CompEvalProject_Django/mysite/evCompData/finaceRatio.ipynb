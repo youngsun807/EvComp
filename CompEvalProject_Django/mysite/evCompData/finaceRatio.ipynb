{
 "cells": [
  {
   "cell_type": "markdown",
   "metadata": {},
   "source": [
    "### 공통코드"
   ]
  },
  {
   "cell_type": "code",
   "execution_count": 1,
   "metadata": {},
   "outputs": [],
   "source": [
    "import requests\n",
    "from bs4 import BeautifulSoup\n",
    "import re\n",
    "import json\n",
    "import pandas as pd"
   ]
  },
  {
   "cell_type": "code",
   "execution_count": 25,
   "metadata": {},
   "outputs": [],
   "source": [
    "ticker = \"016360\"\n",
    "#column_idx = 1"
   ]
  },
  {
   "cell_type": "code",
   "execution_count": 26,
   "metadata": {},
   "outputs": [],
   "source": [
    "pat_enc = re.compile(\"encparam: '(.*)'\")\n",
    "#pat_id = re.compile(\"id: '([a-zA-Z0-9]*)' ?\", re.IGNORECASE)"
   ]
  },
  {
   "cell_type": "code",
   "execution_count": 27,
   "metadata": {},
   "outputs": [],
   "source": [
    "url = \"https://companyinfo.stock.naver.com/v1/company/c1040001.aspx?cmp_cd={}&cn\".format(ticker)\n",
    "       #https://companyinfo.stock.naver.com/v1/company/c1040001.aspx?cmp_cd=005930&cn=\n",
    "html = requests.get(url).text\n",
    "encparam = pat_enc.search(html).group(1)\n",
    "#encid = pat_id.search(html).group(1)"
   ]
  },
  {
   "cell_type": "code",
   "execution_count": 28,
   "metadata": {},
   "outputs": [
    {
     "name": "stdout",
     "output_type": "stream",
     "text": [
      "YmROV2Q3VGFIa2duNzBUTVRiZjBhdz09\n"
     ]
    }
   ],
   "source": [
    "print(encparam)"
   ]
  },
  {
   "cell_type": "code",
   "execution_count": 29,
   "metadata": {},
   "outputs": [],
   "source": [
    "#print(encid)"
   ]
  },
  {
   "cell_type": "markdown",
   "metadata": {},
   "source": [
    "### 수익성 지표 코드"
   ]
  },
  {
   "cell_type": "code",
   "execution_count": 94,
   "metadata": {},
   "outputs": [],
   "source": [
    "#수익성\n",
    "profitUrl = \"https://companyinfo.stock.naver.com/v1/company/cF4002.aspx?cmp_cd={}&frq=0&rpt=1&finGubun=IFRSS&frqTyp=0&cn=&encparam={}\".format(ticker, encparam)\n",
    "\n",
    "headers = {\n",
    "  \"Referer\": \"HACK\"\n",
    "}\n",
    "profitHtml = requests.get(profitUrl, headers=headers).text"
   ]
  },
  {
   "cell_type": "code",
   "execution_count": 106,
   "metadata": {},
   "outputs": [],
   "source": [
    "profitSoup = BeautifulSoup(profitHtml, \"html.parser\") #\"html5lib\""
   ]
  },
  {
   "cell_type": "code",
   "execution_count": 107,
   "metadata": {},
   "outputs": [],
   "source": [
    "profitJson = json.loads(profitSoup.text)"
   ]
  },
  {
   "cell_type": "code",
   "execution_count": 108,
   "metadata": {},
   "outputs": [
    {
     "data": {
      "text/plain": [
       "['2013/12(IFRS별도)',\n",
       " '2014/12(IFRS별도)',\n",
       " '2015/12(IFRS별도)',\n",
       " '2016/12(IFRS별도)',\n",
       " '2017/12(IFRS별도)',\n",
       " '2018/12(E)(IFRS별도)',\n",
       " '전년대비(YoY)',\n",
       " '전년대비(YoY)']"
      ]
     },
     "execution_count": 108,
     "metadata": {},
     "output_type": "execute_result"
    }
   ],
   "source": [
    "profitDate = profitJson[\"YYMM\"]\n",
    "profitDate"
   ]
  },
  {
   "cell_type": "code",
   "execution_count": 109,
   "metadata": {},
   "outputs": [],
   "source": [
    "profitData = profitJson[\"DATA\"]"
   ]
  },
  {
   "cell_type": "code",
   "execution_count": 110,
   "metadata": {},
   "outputs": [],
   "source": [
    "profitCol = [\"date\"]\n",
    "profitRow1 = [profitDate[0].replace('(IFRS별도)',\"\")]\n",
    "profitRow2 = [profitDate[1].replace('(IFRS별도)',\"\")]\n",
    "profitRow3 = [profitDate[2].replace('(IFRS별도)',\"\")]\n",
    "profitRow4 = [profitDate[3].replace('(IFRS별도)',\"\")]\n",
    "profitRow5 = [profitDate[4].replace('(IFRS별도)',\"\")]\n",
    "profitList = [profitCol, profitRow1, profitRow2, profitRow3, profitRow4, profitRow5]\n",
    "try:\n",
    "    for i in range(len(profitData)):\n",
    "        profitDataYear = profitData[i]\n",
    "        if profitDataYear[\"P_ACCODE\"] ==None:\n",
    "            profitCol.append(profitDataYear[\"ACC_NM\"])\n",
    "            data1 = round(float(profitDataYear[\"DATA1\"]),2)\n",
    "            profitRow1.append(data1)\n",
    "            data2 = round(float(profitDataYear[\"DATA2\"]),2)\n",
    "            profitRow2.append(data2)\n",
    "            data3 = round(float(profitDataYear[\"DATA3\"]),2)\n",
    "            profitRow3.append(data3)\n",
    "            data4 = round(float(profitDataYear[\"DATA4\"]),2)\n",
    "            profitRow4.append(data4) \n",
    "            data5 = round(float(profitDataYear[\"DATA5\"]),2)\n",
    "            profitRow5.append(data1)\n",
    "except:\n",
    "    pass"
   ]
  },
  {
   "cell_type": "code",
   "execution_count": 111,
   "metadata": {},
   "outputs": [
    {
     "data": {
      "text/plain": [
       "[['date', '매출총이익률', '영업이익률', '순이익률', 'EBITDA마진율', 'ROE', 'ROA', 'ROIC'],\n",
       " ['2013/12', 20.72, 0.35, 0.4, 2.02, 0.26, 0.04],\n",
       " ['2014/12', 23.83, 5.27, 8.0, 12.04, 7.27, 1.09],\n",
       " ['2015/12', 24.58, 9.57, 6.64, 9.88, 7.43, 0.94],\n",
       " ['2016/12', 17.09, 4.52, 3.74, 5.83, 4.48, 0.53],\n",
       " ['2017/12', 20.72, 0.35, 0.4, 2.02, 0.26, 0.04]]"
      ]
     },
     "execution_count": 111,
     "metadata": {},
     "output_type": "execute_result"
    }
   ],
   "source": [
    "profitList"
   ]
  },
  {
   "cell_type": "code",
   "execution_count": 112,
   "metadata": {},
   "outputs": [
    {
     "data": {
      "text/plain": [
       "[['date', '매출총이익률', '영업이익률', '순이익률', 'EBITDA마진율', 'ROE', 'ROA', 'ROIC'],\n",
       " ['2013/12', 20.72, 0.35, 0.4, 2.02, 0.26, 0.04],\n",
       " ['2014/12', 23.83, 5.27, 8.0, 12.04, 7.27, 1.09],\n",
       " ['2015/12', 24.58, 9.57, 6.64, 9.88, 7.43, 0.94],\n",
       " ['2016/12', 17.09, 4.52, 3.74, 5.83, 4.48, 0.53],\n",
       " ['2017/12', 20.72, 0.35, 0.4, 2.02, 0.26, 0.04]]"
      ]
     },
     "execution_count": 112,
     "metadata": {},
     "output_type": "execute_result"
    }
   ],
   "source": [
    "array = (profitList)\n",
    "array"
   ]
  },
  {
   "cell_type": "markdown",
   "metadata": {},
   "source": [
    "### 성장성 지표 코드"
   ]
  },
  {
   "cell_type": "code",
   "execution_count": 113,
   "metadata": {},
   "outputs": [],
   "source": [
    "# 성장성\n",
    "growthUrl = \"https://companyinfo.stock.naver.com/v1/company/cF4002.aspx?cmp_cd={}&frq=0&rpt=2&finGubun=IFRSS&frqTyp=0&cn=&encparam={}\".format(ticker, encparam)\n",
    "\n",
    "headers = {\n",
    "  \"Referer\": \"HACK\"\n",
    "}\n",
    "growthHtml = requests.get(growthUrl, headers=headers).text"
   ]
  },
  {
   "cell_type": "code",
   "execution_count": 114,
   "metadata": {},
   "outputs": [],
   "source": [
    "growthSoup = BeautifulSoup(growthHtml, \"html.parser\")\n",
    "growthJson = json.loads(growthSoup.text)"
   ]
  },
  {
   "cell_type": "code",
   "execution_count": 115,
   "metadata": {},
   "outputs": [
    {
     "data": {
      "text/plain": [
       "['2013/12(IFRS별도)',\n",
       " '2014/12(IFRS별도)',\n",
       " '2015/12(IFRS별도)',\n",
       " '2016/12(IFRS별도)',\n",
       " '2017/12(IFRS별도)',\n",
       " '2018/12(E)(IFRS별도)',\n",
       " '전년대비(YoY)',\n",
       " '전년대비(YoY)']"
      ]
     },
     "execution_count": 115,
     "metadata": {},
     "output_type": "execute_result"
    }
   ],
   "source": [
    "growthDate = growthJson[\"YYMM\"]\n",
    "growthDate"
   ]
  },
  {
   "cell_type": "code",
   "execution_count": 116,
   "metadata": {},
   "outputs": [
    {
     "ename": "TypeError",
     "evalue": "float() argument must be a string or a number, not 'NoneType'",
     "output_type": "error",
     "traceback": [
      "\u001b[1;31m---------------------------------------------------------------------------\u001b[0m",
      "\u001b[1;31mTypeError\u001b[0m                                 Traceback (most recent call last)",
      "\u001b[1;32m<ipython-input-116-89fd82b6d2a7>\u001b[0m in \u001b[0;36m<module>\u001b[1;34m()\u001b[0m\n\u001b[0;32m     11\u001b[0m     \u001b[1;32mif\u001b[0m \u001b[0mgrowthDataYear\u001b[0m\u001b[1;33m[\u001b[0m\u001b[1;34m\"P_ACCODE\"\u001b[0m\u001b[1;33m]\u001b[0m \u001b[1;33m==\u001b[0m\u001b[1;32mNone\u001b[0m\u001b[1;33m:\u001b[0m\u001b[1;33m\u001b[0m\u001b[0m\n\u001b[0;32m     12\u001b[0m         \u001b[0mgrowthCol\u001b[0m\u001b[1;33m.\u001b[0m\u001b[0mappend\u001b[0m\u001b[1;33m(\u001b[0m\u001b[0mgrowthDataYear\u001b[0m\u001b[1;33m[\u001b[0m\u001b[1;34m\"ACC_NM\"\u001b[0m\u001b[1;33m]\u001b[0m\u001b[1;33m)\u001b[0m\u001b[1;33m\u001b[0m\u001b[0m\n\u001b[1;32m---> 13\u001b[1;33m         \u001b[0mdata1\u001b[0m \u001b[1;33m=\u001b[0m \u001b[0mround\u001b[0m\u001b[1;33m(\u001b[0m\u001b[0mfloat\u001b[0m\u001b[1;33m(\u001b[0m\u001b[0mgrowthDataYear\u001b[0m\u001b[1;33m[\u001b[0m\u001b[1;34m\"DATA1\"\u001b[0m\u001b[1;33m]\u001b[0m\u001b[1;33m)\u001b[0m\u001b[1;33m,\u001b[0m\u001b[1;36m2\u001b[0m\u001b[1;33m)\u001b[0m\u001b[1;33m\u001b[0m\u001b[0m\n\u001b[0m\u001b[0;32m     14\u001b[0m         \u001b[0mgrowthRow1\u001b[0m\u001b[1;33m.\u001b[0m\u001b[0mappend\u001b[0m\u001b[1;33m(\u001b[0m\u001b[0mdata1\u001b[0m\u001b[1;33m)\u001b[0m\u001b[1;33m\u001b[0m\u001b[0m\n\u001b[0;32m     15\u001b[0m         \u001b[0mdata2\u001b[0m \u001b[1;33m=\u001b[0m \u001b[0mround\u001b[0m\u001b[1;33m(\u001b[0m\u001b[0mfloat\u001b[0m\u001b[1;33m(\u001b[0m\u001b[0mgrowthDataYear\u001b[0m\u001b[1;33m[\u001b[0m\u001b[1;34m\"DATA2\"\u001b[0m\u001b[1;33m]\u001b[0m\u001b[1;33m)\u001b[0m\u001b[1;33m,\u001b[0m\u001b[1;36m2\u001b[0m\u001b[1;33m)\u001b[0m\u001b[1;33m\u001b[0m\u001b[0m\n",
      "\u001b[1;31mTypeError\u001b[0m: float() argument must be a string or a number, not 'NoneType'"
     ]
    }
   ],
   "source": [
    "growthData = growthJson[\"DATA\"]\n",
    "growthCol = [\"date\"]\n",
    "growthRow1 = [growthDate[0].replace('(IFRS별도)',\"\")]\n",
    "growthRow2 = [growthDate[1].replace('(IFRS별도)',\"\")]\n",
    "growthRow3 = [growthDate[2].replace('(IFRS별도)',\"\")]\n",
    "growthRow4 = [growthDate[3].replace('(IFRS별도)',\"\")]\n",
    "growthRow5 = [growthDate[4].replace('(IFRS별도)',\"\")]\n",
    "growthList = [growthCol, growthRow1, growthRow2, growthRow3, growthRow4, growthRow5]\n",
    "for i in range(len(growthData)):\n",
    "    growthDataYear = growthData[i]\n",
    "    if growthDataYear[\"P_ACCODE\"] ==None:\n",
    "        growthCol.append(growthDataYear[\"ACC_NM\"])\n",
    "        data1 = round(float(growthDataYear[\"DATA1\"]),2)\n",
    "        growthRow1.append(data1)\n",
    "        data2 = round(float(growthDataYear[\"DATA2\"]),2)\n",
    "        growthRow2.append(data2)\n",
    "        data3 = round(float(growthDataYear[\"DATA3\"]),2)\n",
    "        growthRow3.append(data3)\n",
    "        data4 = round(float(growthDataYear[\"DATA4\"]),2)\n",
    "        growthRow4.append(data4) \n",
    "        data5 = round(float(growthDataYear[\"DATA5\"]),2)\n",
    "        growthRow5.append(data1)"
   ]
  },
  {
   "cell_type": "code",
   "execution_count": 117,
   "metadata": {},
   "outputs": [
    {
     "data": {
      "text/plain": [
       "[['date', '매출액증가율', '영업이익증가율', '순이익증가율', '총자산증가율', '유동자산증가율'],\n",
       " ['2013/12', 7.61, -62.02, -69.27, 6.11],\n",
       " ['2014/12', 11.11, 136.48, 506.83, 28.36],\n",
       " ['2015/12', 27.53, 131.32, 5.77, 19.51],\n",
       " ['2016/12', 12.4, -46.92, -36.59, 6.75],\n",
       " ['2017/12', 7.61, -62.02, -69.27, 6.11]]"
      ]
     },
     "execution_count": 117,
     "metadata": {},
     "output_type": "execute_result"
    }
   ],
   "source": [
    "growthList"
   ]
  },
  {
   "cell_type": "markdown",
   "metadata": {},
   "source": [
    "### 안정성 지표 코드"
   ]
  },
  {
   "cell_type": "code",
   "execution_count": 119,
   "metadata": {},
   "outputs": [],
   "source": [
    "# 안정성 \n",
    "stabilityUrl = \"https://companyinfo.stock.naver.com/v1/company/cF4002.aspx?cmp_cd={}&frq=0&rpt=3&finGubun=IFRSS&frqTyp=0&cn=&encparam={}\".format(ticker, encparam)\n",
    "headers = {\n",
    "  \"Referer\": \"HACK\"\n",
    "}\n",
    "stabilityHtml = requests.get(stabilityUrl, headers=headers).text"
   ]
  },
  {
   "cell_type": "code",
   "execution_count": 120,
   "metadata": {},
   "outputs": [],
   "source": [
    "stabilitySoup = BeautifulSoup(stabilityHtml, \"html.parser\")\n",
    "stabilityJson = json.loads(stabilitySoup.text)"
   ]
  },
  {
   "cell_type": "code",
   "execution_count": 121,
   "metadata": {},
   "outputs": [
    {
     "data": {
      "text/plain": [
       "['2013/12(IFRS별도)',\n",
       " '2014/12(IFRS별도)',\n",
       " '2015/12(IFRS별도)',\n",
       " '2016/12(IFRS별도)',\n",
       " '2017/12(IFRS별도)',\n",
       " '2018/12(E)(IFRS별도)',\n",
       " '전년대비(YoY)',\n",
       " '전년대비(YoY)']"
      ]
     },
     "execution_count": 121,
     "metadata": {},
     "output_type": "execute_result"
    }
   ],
   "source": [
    "stabilityDate = stabilityJson[\"YYMM\"]\n",
    "stabilityDate"
   ]
  },
  {
   "cell_type": "code",
   "execution_count": 122,
   "metadata": {},
   "outputs": [
    {
     "ename": "TypeError",
     "evalue": "float() argument must be a string or a number, not 'NoneType'",
     "output_type": "error",
     "traceback": [
      "\u001b[1;31m---------------------------------------------------------------------------\u001b[0m",
      "\u001b[1;31mTypeError\u001b[0m                                 Traceback (most recent call last)",
      "\u001b[1;32m<ipython-input-122-5637b3b51dc1>\u001b[0m in \u001b[0;36m<module>\u001b[1;34m()\u001b[0m\n\u001b[0;32m     11\u001b[0m     \u001b[1;32mif\u001b[0m \u001b[0mstabilityDataYear\u001b[0m\u001b[1;33m[\u001b[0m\u001b[1;34m\"P_ACCODE\"\u001b[0m\u001b[1;33m]\u001b[0m \u001b[1;33m==\u001b[0m\u001b[1;32mNone\u001b[0m\u001b[1;33m:\u001b[0m\u001b[1;33m\u001b[0m\u001b[0m\n\u001b[0;32m     12\u001b[0m         \u001b[0mstabilityCol\u001b[0m\u001b[1;33m.\u001b[0m\u001b[0mappend\u001b[0m\u001b[1;33m(\u001b[0m\u001b[0mstabilityDataYear\u001b[0m\u001b[1;33m[\u001b[0m\u001b[1;34m\"ACC_NM\"\u001b[0m\u001b[1;33m]\u001b[0m\u001b[1;33m)\u001b[0m\u001b[1;33m\u001b[0m\u001b[0m\n\u001b[1;32m---> 13\u001b[1;33m         \u001b[0mdata1\u001b[0m \u001b[1;33m=\u001b[0m \u001b[0mround\u001b[0m\u001b[1;33m(\u001b[0m\u001b[0mfloat\u001b[0m\u001b[1;33m(\u001b[0m\u001b[0mstabilityDataYear\u001b[0m\u001b[1;33m[\u001b[0m\u001b[1;34m\"DATA1\"\u001b[0m\u001b[1;33m]\u001b[0m\u001b[1;33m)\u001b[0m\u001b[1;33m,\u001b[0m\u001b[1;36m2\u001b[0m\u001b[1;33m)\u001b[0m\u001b[1;33m\u001b[0m\u001b[0m\n\u001b[0m\u001b[0;32m     14\u001b[0m         \u001b[0mstabilityRow1\u001b[0m\u001b[1;33m.\u001b[0m\u001b[0mappend\u001b[0m\u001b[1;33m(\u001b[0m\u001b[0mdata1\u001b[0m\u001b[1;33m)\u001b[0m\u001b[1;33m\u001b[0m\u001b[0m\n\u001b[0;32m     15\u001b[0m         \u001b[0mdata2\u001b[0m \u001b[1;33m=\u001b[0m \u001b[0mround\u001b[0m\u001b[1;33m(\u001b[0m\u001b[0mfloat\u001b[0m\u001b[1;33m(\u001b[0m\u001b[0mstabilityDataYear\u001b[0m\u001b[1;33m[\u001b[0m\u001b[1;34m\"DATA2\"\u001b[0m\u001b[1;33m]\u001b[0m\u001b[1;33m)\u001b[0m\u001b[1;33m,\u001b[0m\u001b[1;36m2\u001b[0m\u001b[1;33m)\u001b[0m\u001b[1;33m\u001b[0m\u001b[0m\n",
      "\u001b[1;31mTypeError\u001b[0m: float() argument must be a string or a number, not 'NoneType'"
     ]
    }
   ],
   "source": [
    "stabilityData = stabilityJson[\"DATA\"]\n",
    "stabilityCol = [\"date\"]\n",
    "stabilityRow1 = [stabilityDate[0].replace('(IFRS별도)',\"\")]\n",
    "stabilityRow2 = [stabilityDate[1].replace('(IFRS별도)',\"\")]\n",
    "stabilityRow3 = [stabilityDate[2].replace('(IFRS별도)',\"\")]\n",
    "stabilityRow4 = [stabilityDate[3].replace('(IFRS별도)',\"\")]\n",
    "stabilityRow5 = [stabilityDate[4].replace('(IFRS별도)',\"\")]\n",
    "stabilityList = [stabilityCol, stabilityRow1, stabilityRow2, stabilityRow3, stabilityRow4, stabilityRow5]\n",
    "for i in range(len(stabilityData)):\n",
    "    stabilityDataYear = stabilityData[i]\n",
    "    if stabilityDataYear[\"P_ACCODE\"] ==None:\n",
    "        stabilityCol.append(stabilityDataYear[\"ACC_NM\"])\n",
    "        data1 = round(float(stabilityDataYear[\"DATA1\"]),2)\n",
    "        stabilityRow1.append(data1)\n",
    "        data2 = round(float(stabilityDataYear[\"DATA2\"]),2)\n",
    "        stabilityRow2.append(data2)\n",
    "        data3 = round(float(stabilityDataYear[\"DATA3\"]),2)\n",
    "        stabilityRow3.append(data3)\n",
    "        data4 = round(float(stabilityDataYear[\"DATA4\"]),2)\n",
    "        stabilityRow4.append(data4) \n",
    "        data5 = round(float(stabilityDataYear[\"DATA5\"]),2)\n",
    "        stabilityRow5.append(data1)"
   ]
  },
  {
   "cell_type": "code",
   "execution_count": 123,
   "metadata": {},
   "outputs": [
    {
     "data": {
      "text/plain": [
       "[['date', '부채비율', '유동부채비율'],\n",
       " ['2013/12', 496.0],\n",
       " ['2014/12', 629.58],\n",
       " ['2015/12', 754.01],\n",
       " ['2016/12', 742.1],\n",
       " ['2017/12', 496.0]]"
      ]
     },
     "execution_count": 123,
     "metadata": {},
     "output_type": "execute_result"
    }
   ],
   "source": [
    "stabilityList"
   ]
  },
  {
   "cell_type": "markdown",
   "metadata": {},
   "source": [
    "### 활동성 지표 코드"
   ]
  },
  {
   "cell_type": "code",
   "execution_count": 125,
   "metadata": {},
   "outputs": [],
   "source": [
    "# 활동성 \n",
    "activityUrl = \"https://companyinfo.stock.naver.com/v1/company/cF4002.aspx?cmp_cd={}&frq=0&rpt=4&finGubun=IFRSS&frqTyp=0&cn=&encparam={}\".format(ticker, encparam)\n",
    "headers = {\n",
    "  \"Referer\": \"HACK\"\n",
    "}\n",
    "activityHtml = requests.get(activityUrl, headers=headers).text"
   ]
  },
  {
   "cell_type": "code",
   "execution_count": 126,
   "metadata": {},
   "outputs": [],
   "source": [
    "activitySoup = BeautifulSoup(activityHtml, \"html.parser\")\n",
    "activityJson = json.loads(activitySoup.text)"
   ]
  },
  {
   "cell_type": "code",
   "execution_count": 127,
   "metadata": {},
   "outputs": [
    {
     "data": {
      "text/plain": [
       "['2013/12(IFRS별도)',\n",
       " '2014/12(IFRS별도)',\n",
       " '2015/12(IFRS별도)',\n",
       " '2016/12(IFRS별도)',\n",
       " '2017/12(IFRS별도)',\n",
       " '2018/12(E)(IFRS별도)',\n",
       " '전년대비(YoY)',\n",
       " '전년대비(YoY)']"
      ]
     },
     "execution_count": 127,
     "metadata": {},
     "output_type": "execute_result"
    }
   ],
   "source": [
    "activityDate = activityJson[\"YYMM\"]\n",
    "activityDate"
   ]
  },
  {
   "cell_type": "code",
   "execution_count": 128,
   "metadata": {},
   "outputs": [],
   "source": [
    "activityData = activityJson[\"DATA\"]\n",
    "activityCol = [\"date\"]\n",
    "activityRow1 = [activityDate[0].replace('(IFRS별도)',\"\")]\n",
    "activityRow2 = [activityDate[1].replace('(IFRS별도)',\"\")]\n",
    "activityRow3 = [activityDate[2].replace('(IFRS별도)',\"\")]\n",
    "activityRow4 = [activityDate[3].replace('(IFRS별도)',\"\")]\n",
    "activityRow5 = [activityDate[4].replace('(IFRS별도)',\"\")]\n",
    "activityList = [activityCol, activityRow1, activityRow2, activityRow3, activityRow4, activityRow5]\n",
    "for i in range(len(activityData)):\n",
    "    activityDataYear = activityData[i]\n",
    "    if activityDataYear[\"P_ACCODE\"] ==None:\n",
    "        activityCol.append(activityDataYear[\"ACC_NM\"])\n",
    "        data1 = round(float(activityDataYear[\"DATA1\"]),2)\n",
    "        activityRow1.append(data1)\n",
    "        data2 = round(float(activityDataYear[\"DATA2\"]),2)\n",
    "        activityRow2.append(data2)\n",
    "        data3 = round(float(activityDataYear[\"DATA3\"]),2)\n",
    "        activityRow3.append(data3)\n",
    "        data4 = round(float(activityDataYear[\"DATA4\"]),2)\n",
    "        activityRow4.append(data4) \n",
    "        data5 = round(float(activityDataYear[\"DATA5\"]),2)\n",
    "        activityRow5.append(data1)"
   ]
  },
  {
   "cell_type": "code",
   "execution_count": 129,
   "metadata": {},
   "outputs": [
    {
     "data": {
      "text/plain": [
       "[['date', '총자산회전율', '매출채권회전율', '재고자산회전율', '매입채무회전율'],\n",
       " ['2013/12', 0.17, 4.96, 3.61, 7.57],\n",
       " ['2014/12', 0.14, 6.3, 4.28, 8.17],\n",
       " ['2015/12', 0.12, 7.54, 4.82, 8.67],\n",
       " ['2016/12', 0.12, 7.42, 4.32, 8.62],\n",
       " ['2017/12', 0.17, 4.96, 3.61, 7.57]]"
      ]
     },
     "execution_count": 129,
     "metadata": {},
     "output_type": "execute_result"
    }
   ],
   "source": [
    "activityList"
   ]
  },
  {
   "cell_type": "code",
   "execution_count": null,
   "metadata": {},
   "outputs": [],
   "source": []
  }
 ],
 "metadata": {
  "kernelspec": {
   "display_name": "Python 3",
   "language": "python",
   "name": "python3"
  },
  "language_info": {
   "codemirror_mode": {
    "name": "ipython",
    "version": 3
   },
   "file_extension": ".py",
   "mimetype": "text/x-python",
   "name": "python",
   "nbconvert_exporter": "python",
   "pygments_lexer": "ipython3",
   "version": "3.6.5"
  }
 },
 "nbformat": 4,
 "nbformat_minor": 2
}
